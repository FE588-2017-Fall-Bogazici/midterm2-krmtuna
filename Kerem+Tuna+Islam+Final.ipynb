{
 "cells": [
  {
   "cell_type": "code",
   "execution_count": 92,
   "metadata": {},
   "outputs": [
    {
     "name": "stdout",
     "output_type": "stream",
     "text": [
      "3cos(3x) +7.1sin(2x) +0.3sin(x) -3 \n"
     ]
    },
    {
     "data": {
      "image/png": "[encoded data removed]",
      "text/plain": [
       "<matplotlib.figure.Figure at 0x113ef6240>"
      ]
     },
     "metadata": {},
     "output_type": "display_data"
    },
    {
     "data": {
      "text/plain": [
       "-1cos(3x) -4.1sin(2x) +0.7sin(x) +5 "
      ]
     },
     "execution_count": 92,
     "metadata": {},
     "output_type": "execute_result"
    }
   ],
   "source": [
    "#question 1\n",
    "import numpy as nm\n",
    "import matplotlib as mpl\n",
    "import matplotlib.pyplot as plt\n",
    "\n",
    "\n",
    "class polynomial(object):\n",
    "    def __init__(self, c, v='x'):\n",
    "        self.coeff = c\n",
    "        self.v = v\n",
    "    def __repr__(self):\n",
    "        coeff = self.coeff\n",
    "        v = self.v\n",
    "        s = ''\n",
    "        D = len(coeff)\n",
    "        \n",
    "        first = True\n",
    "        \n",
    "        for i in range(D):\n",
    "            pw = D-i-1\n",
    "            pre = '+' if coeff[i]>0 else ''\n",
    "\n",
    "            if first:\n",
    "                if pre=='+':\n",
    "                    pre = ''\n",
    "                first = False\n",
    "            \n",
    "            if pw == 0:\n",
    "                vname = ''\n",
    "            elif pw == 1:\n",
    "                vname = 'sin(' + v + ')'\n",
    "            elif pw == D-1:\n",
    "                vname = 'cos(' + str(D-1) + v + ')'\n",
    "            else:\n",
    "                vname = 'sin(' + str(pw) + '' + v + ')'\n",
    "\n",
    "            if coeff[i] != 0:\n",
    "                s += pre+str(coeff[i])+ vname + ' '\n",
    "               \n",
    "        return s\n",
    "    def __add__(self,b):\n",
    "        L_a = len(self.coeff)\n",
    "        L_b = len(b.coeff)\n",
    "        \n",
    "        coeff = self.coeff if L_a > L_b else b.coeff\n",
    "        short = self.coeff if L_a <= L_b else b.coeff\n",
    "        \n",
    "        for i in range(len(short)):\n",
    "            coeff[-1-i] += short[-1-i]\n",
    "            \n",
    "        return polynomial(coeff, self.v)\n",
    "    \n",
    "    def __sub__(self,b):\n",
    "        L_a = len(self.coeff)\n",
    "        L_b = len(b.coeff)\n",
    "        \n",
    "        coeff = self.coeff if L_a > L_b else b.coeff\n",
    "        short = self.coeff if L_a <= L_b else b.coeff\n",
    "        \n",
    "        for i in range(len(short)):\n",
    "            coeff[-1-i] -= short[-1-i]\n",
    "            \n",
    "        return polynomial(coeff, self.v)\n",
    "    def __mul__(self,b):\n",
    "        \"\"\"Computes a*b and returns the result\"\"\"\n",
    "        coeff = np.polymul(self.coeff, b.coeff)\n",
    "        return polynomial(coeff,self.v)\n",
    "    def deriv(self):\n",
    "        coeff = []\n",
    "        D = len(self.coeff)\n",
    "        for i in range(D-1):\n",
    "            pw = D-i-1\n",
    "            coeff.append(pw*self.coeff[i])\n",
    "        \n",
    "        if coeff == []:\n",
    "            coeff = [0]\n",
    "        \n",
    "        return polynomial(coeff, self.v)\n",
    "        \n",
    "    def plot(self, number_of_points=100, left=-1, right=1):\n",
    "        \"\"\"\n",
    "            Evaluates the polynomial at number_of_points equally spaced \n",
    "            points between left and right and plots the result using matplotlib\n",
    "        \"\"\"\n",
    "        x = np.linspace(left,right,number_of_points)\n",
    "        y = np.polyval(self.coeff, x)\n",
    "        plt.plot(x, y, 'k')\n",
    "        plt.show()\n",
    "        \n",
    "        return\n",
    "\n",
    "p = polynomial([3, 7.1, 0.3, -3], 'x')\n",
    "q = polynomial([2, 3, 1, 2], 'x')\n",
    "print(p)\n",
    "p.plot(left=-2.4, right=5)\n",
    "p-q\n"
   ]
  },
  {
   "cell_type": "code",
   "execution_count": 72,
   "metadata": {},
   "outputs": [
    {
     "data": {
      "text/plain": [
       "['Han Solo',\n",
       " 'Padme Amidala',\n",
       " 'Anakin Skywalker',\n",
       " 'Leia',\n",
       " 'Yoda',\n",
       " 'Luke',\n",
       " 'Obi-Wan',\n",
       " 'Darth Vader']"
      ]
     },
     "execution_count": 72,
     "metadata": {},
     "output_type": "execute_result"
    }
   ],
   "source": [
    "#question 2\n",
    "class myobj:\n",
    "    def __init__(self, name):\n",
    "        self.dependencies = []\n",
    "        self.name = name\n",
    "\n",
    "    def add_dependency(self, *myobj):\n",
    "        self.dependencies.extend(myobj)\n",
    "\n",
    "    def build(self, names=None):\n",
    "        if names is None:\n",
    "            names = []\n",
    "\n",
    "        for i in self.dependencies:\n",
    "            if i.name not in names:\n",
    "                i.build(names)\n",
    "                names.append(i.name)\n",
    "\n",
    "        return names\n",
    "\n",
    "    def __str__(self):\n",
    "        return self.name\n",
    "    \n",
    "luke    = myobj(\"Luke\")\n",
    "hansolo = myobj(\"Han Solo\")\n",
    "leia    = myobj(\"Leia\")\n",
    "yoda    = myobj(\"Yoda\")\n",
    "padme   = myobj(\"Padme Amidala\")\n",
    "anakin  = myobj(\"Anakin Skywalker\")\n",
    "obi     = myobj(\"Obi-Wan\")\n",
    "darth   = myobj(\"Darth Vader\")\n",
    "_all    = myobj(\"All\")\n",
    "\n",
    "\n",
    "luke.add_dependency(hansolo, leia, yoda)\n",
    "leia.add_dependency(padme, anakin)\n",
    "obi.add_dependency(yoda)\n",
    "darth.add_dependency(anakin)\n",
    "\n",
    "_all.add_dependency(luke, hansolo, leia, yoda, padme, anakin, obi, darth)\n",
    "_all.build()"
   ]
  }
 ],
 "metadata": {
  "kernelspec": {
   "display_name": "Python 3",
   "language": "python",
   "name": "python3"
  },
  "language_info": {
   "codemirror_mode": {
    "name": "ipython",
    "version": 3
   },
   "file_extension": ".py",
   "mimetype": "text/x-python",
   "name": "python",
   "nbconvert_exporter": "python",
   "pygments_lexer": "ipython3",
   "version": "3.6.2"
  }
 },
 "nbformat": 4,
 "nbformat_minor": 2
}
